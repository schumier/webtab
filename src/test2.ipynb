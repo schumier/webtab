{
 "cells": [
  {
   "cell_type": "code",
   "execution_count": null,
   "id": "ae1343a6-1f56-4052-9ebc-643385316018",
   "metadata": {},
   "outputs": [
    {
     "name": "stdout",
     "output_type": "stream",
     "text": [
      "Cleaned JSON saved to cleaned.json\n"
     ]
    }
   ],
   "source": [
    "import json\n",
    "\n",
    "# Read potentially malformed JSON from a file\n",
    "with open(\"D:\\\\Project\\\\pbix\\\\Human Resources Sample PBIX\\\\Report\\\\Layout\", 'r') as f:\n",
    "    raw = f.read()\n",
    "\n",
    "# Remove null bytes if present\n",
    "raw = raw.replace('\\x00', '')\n",
    "\n",
    "# Try to parse JSON safely\n",
    "try:\n",
    "    data = json.loads(raw)\n",
    "except json.JSONDecodeError as e:\n",
    "    print(f\"JSONDecodeError: {e}\")\n",
    "    # Optionally, handle or repair the JSON here\n",
    "    # For demo purposes, exit if error\n",
    "    data = None\n",
    "\n",
    "# If parsing succeeded, save cleaned JSON to a new file\n",
    "if data is not None:\n",
    "    with open(\"D:\\\\Project\\\\pbix\\\\data.json\", 'w') as f:\n",
    "        json.dump(data, f, indent=4)\n",
    "    print(\"Cleaned JSON saved to cleaned.json\")\n",
    "else:\n",
    "    print(\"Could not parse JSON after cleanup.\")"
   ]
  },
  {
   "cell_type": "code",
   "execution_count": null,
   "metadata": {},
   "outputs": [
    {
     "name": "stdout",
     "output_type": "stream",
     "text": [
      "Cleaned JSON saved to cleaned.json\n"
     ]
    }
   ],
   "source": [
    "import json\n",
    "\n",
    "# Read raw content from input.json\n",
    "with open(\"D:\\\\Project\\\\pbix\\\\Human Resources Sample PBIX\\\\Report\\\\Layout\", 'r') as f:\n",
    "    raw = f.read().replace('\\x00', '').strip()\n",
    "\n",
    "# First decode: Remove outer quotes if needed\n",
    "if raw.startswith('\"') and raw.endswith('\"'):\n",
    "    # Unescape and decode the string inside the quotes\n",
    "    intermediate = json.loads(raw)\n",
    "else:\n",
    "    intermediate = raw\n",
    "\n",
    "# Second decode: Convert to Python dict\n",
    "if isinstance(intermediate, str):\n",
    "    try:\n",
    "        data = json.loads(intermediate)\n",
    "    except json.JSONDecodeError as e:\n",
    "        print(f\"JSONDecodeError: {e}\")\n",
    "        data = None\n",
    "else:\n",
    "    data = intermediate\n",
    "\n",
    "# Save cleaned JSON to cleaned.json\n",
    "if data is not None:\n",
    "    with open(\"D:\\\\Project\\\\pbix\\\\data.json\", 'w') as f:\n",
    "        json.dump(data, f, indent=4)\n",
    "    print(\"Cleaned JSON saved to cleaned.json\")\n",
    "else:\n",
    "    print(\"Could not parse JSON after cleanup.\")"
   ]
  }
 ],
 "metadata": {
  "language_info": {
   "codemirror_mode": {
    "name": "ipython",
    "version": 3
   },
   "file_extension": ".py",
   "mimetype": "text/x-python",
   "name": "python",
   "nbconvert_exporter": "python",
   "pygments_lexer": "ipython3",
   "version": 3
  }
 },
 "nbformat": 4,
 "nbformat_minor": 2
}
