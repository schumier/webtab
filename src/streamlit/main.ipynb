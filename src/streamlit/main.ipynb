{
 "cells": [
  {
   "cell_type": "code",
   "execution_count": 1,
   "id": "ab369ce7",
   "metadata": {},
   "outputs": [
    {
     "name": "stdout",
     "output_type": "stream",
     "text": [
      "Package                   Version\n",
      "------------------------- -----------\n",
      "altair                    5.5.0\n",
      "asttokens                 3.0.0\n",
      "attrs                     25.3.0\n",
      "blinker                   1.9.0\n",
      "cachetools                6.2.0\n",
      "certifi                   2025.8.3\n",
      "cffi                      1.17.1\n",
      "charset-normalizer        3.4.3\n",
      "click                     8.3.0\n",
      "clr_loader                0.2.7.post0\n",
      "colorama                  0.4.6\n",
      "comm                      0.2.3\n",
      "debugpy                   1.8.16\n",
      "decorator                 5.2.1\n",
      "executing                 2.2.1\n",
      "gitdb                     4.0.12\n",
      "GitPython                 3.1.45\n",
      "idna                      3.10\n",
      "ipykernel                 6.30.1\n",
      "ipython                   9.5.0\n",
      "ipython_pygments_lexers   1.1.1\n",
      "jedi                      0.19.2\n",
      "Jinja2                    3.1.6\n",
      "jsonschema                4.25.1\n",
      "jsonschema-specifications 2025.9.1\n",
      "jupyter_client            8.6.3\n",
      "jupyter_core              5.8.1\n",
      "MarkupSafe                3.0.2\n",
      "matplotlib-inline         0.1.7\n",
      "narwhals                  2.5.0\n",
      "nest-asyncio              1.6.0\n",
      "numpy                     2.3.3\n",
      "packaging                 25.0\n",
      "pandas                    2.3.2\n",
      "parso                     0.8.5\n",
      "pillow                    11.3.0\n",
      "pip                       25.0.1\n",
      "pipdeptree                2.26.1\n",
      "platformdirs              4.4.0\n",
      "prompt_toolkit            3.0.52\n",
      "protobuf                  6.32.1\n",
      "psutil                    7.0.0\n",
      "pure_eval                 0.2.3\n",
      "pyarrow                   21.0.0\n",
      "pycparser                 2.22\n",
      "pydeck                    0.9.1\n",
      "Pygments                  2.19.2\n",
      "python-dateutil           2.9.0.post0\n",
      "pythonnet                 3.0.5\n",
      "pytz                      2025.2\n",
      "pywin32                   311\n",
      "pyzmq                     27.1.0\n",
      "referencing               0.36.2\n",
      "requests                  2.32.5\n",
      "rpds-py                   0.27.1\n",
      "six                       1.17.0\n",
      "smmap                     5.0.2\n",
      "stack-data                0.6.3\n",
      "streamlit                 1.50.0\n",
      "tenacity                  9.1.2\n",
      "toml                      0.10.2\n",
      "tornado                   6.5.2\n",
      "traitlets                 5.14.3\n",
      "typing_extensions         4.15.0\n",
      "tzdata                    2025.2\n",
      "urllib3                   2.5.0\n",
      "watchdog                  6.0.0\n",
      "wcwidth                   0.2.13\n"
     ]
    }
   ],
   "source": [
    "!pip list"
   ]
  }
 ],
 "metadata": {
  "kernelspec": {
   "display_name": "Python 3",
   "language": "python",
   "name": "python3"
  },
  "language_info": {
   "codemirror_mode": {
    "name": "ipython",
    "version": 3
   },
   "file_extension": ".py",
   "mimetype": "text/x-python",
   "name": "python",
   "nbconvert_exporter": "python",
   "pygments_lexer": "ipython3",
   "version": "3.13.3"
  }
 },
 "nbformat": 4,
 "nbformat_minor": 5
}
